{
 "cells": [
  {
   "cell_type": "code",
   "execution_count": 1,
   "outputs": [],
   "source": [
    "import torch\n",
    "from pyroapi import pyro\n",
    "\n",
    "import pyro.distributions as dist"
   ],
   "metadata": {
    "collapsed": false,
    "pycharm": {
     "name": "#%%\n"
    }
   }
  },
  {
   "cell_type": "code",
   "execution_count": 19,
   "outputs": [],
   "source": [
    "def model_with(t=None):\n",
    "    l = pyro.sample(\"l\", dist.Beta(0.5, 0.5))\n",
    "    t = pyro.sample(\"t\", dist.Bernoulli(l), obs=t)\n",
    "    return t\n",
    "\n",
    "def model_without():\n",
    "    l = pyro.sample(\"l\", dist.Beta(0.5, 0.5))\n",
    "    t = pyro.sample(\"t\", dist.Bernoulli(l))\n",
    "    return t"
   ],
   "metadata": {
    "collapsed": false,
    "pycharm": {
     "name": "#%%\n"
    }
   }
  },
  {
   "cell_type": "code",
   "execution_count": 25,
   "outputs": [],
   "source": [
    "def model_with(t=None):\n",
    "    with pyro.plate(\"N\"):\n",
    "        l = pyro.sample(\"l\", dist.Beta(0.5, 0.5))\n",
    "        t = pyro.sample(\"t\", dist.Bernoulli(l), obs=t)\n",
    "    return t\n",
    "\n",
    "def model_without():\n",
    "    with pyro.plate(\"N\"):\n",
    "        l = pyro.sample(\"l\", dist.Beta(0.5, 0.5))\n",
    "        t = pyro.sample(\"t\", dist.Bernoulli(l))\n",
    "    return t"
   ],
   "metadata": {
    "collapsed": false,
    "pycharm": {
     "name": "#%%\n"
    }
   }
  },
  {
   "cell_type": "code",
   "execution_count": 27,
   "outputs": [
    {
     "data": {
      "text/plain": "(tensor(-0.0457), tensor(-1.2248))"
     },
     "execution_count": 27,
     "metadata": {},
     "output_type": "execute_result"
    }
   ],
   "source": [
    "trace1 = pyro.poutine.trace(model_with).get_trace(torch.tensor(1.))\n",
    "trace2 = pyro.poutine.trace(pyro.condition(model_without, {\"t\": torch.tensor(1.)})).get_trace()\n",
    "\n",
    "trace1.log_prob_sum(), trace2.log_prob_sum()"
   ],
   "metadata": {
    "collapsed": false,
    "pycharm": {
     "name": "#%%\n"
    }
   }
  },
  {
   "cell_type": "code",
   "execution_count": 24,
   "outputs": [
    {
     "data": {
      "text/plain": "(tensor(-1.1447), tensor(-1.1447))"
     },
     "execution_count": 24,
     "metadata": {},
     "output_type": "execute_result"
    }
   ],
   "source": [
    "cond_with = pyro.condition(model_with, {\"l\": torch.tensor(0.5)})\n",
    "cond_without = pyro.condition(model_without, {\"l\": torch.tensor(0.5)})\n",
    "trace1 = pyro.poutine.trace(cond_with).get_trace(torch.tensor(1.))\n",
    "trace2 = pyro.poutine.trace(pyro.condition(cond_without, {\"t\": torch.tensor(1.)})).get_trace()\n",
    "\n",
    "trace1.log_prob_sum(), trace2.log_prob_sum()"
   ],
   "metadata": {
    "collapsed": false,
    "pycharm": {
     "name": "#%%\n"
    }
   }
  },
  {
   "cell_type": "code",
   "execution_count": 32,
   "outputs": [],
   "source": [
    "def model2_with(t1=None, t2=None):\n",
    "    l1 = pyro.sample(\"l1\", dist.Beta(0.5, 0.5))\n",
    "    t1 = pyro.sample(\"t1\", dist.Bernoulli(l1), obs=t1)\n",
    "    l2 = pyro.sample(\"l2\", dist.Beta(0.5, 0.5))\n",
    "    t2 = pyro.sample(\"t2\", dist.Bernoulli(l2), obs=t2)\n",
    "    return t1,t2\n",
    "\n",
    "def model2_without():\n",
    "    l1 = pyro.sample(\"l1\", dist.Beta(0.5, 0.5))\n",
    "    t1 = pyro.sample(\"t1\", dist.Bernoulli(l1))\n",
    "    l2 = pyro.sample(\"l2\", dist.Beta(0.5, 0.5))\n",
    "    t2 = pyro.sample(\"t2\", dist.Bernoulli(l2))\n",
    "    return t1,t2"
   ],
   "metadata": {
    "collapsed": false,
    "pycharm": {
     "name": "#%%\n"
    }
   }
  },
  {
   "cell_type": "code",
   "execution_count": 2,
   "outputs": [],
   "source": [
    "def model2_with(t1=None, t2=None):\n",
    "    with pyro.plate(\"1\"):\n",
    "        l1 = pyro.sample(\"l1\", dist.Beta(1., 1.))\n",
    "        t1 = pyro.sample(\"t1\", dist.Bernoulli(l1), obs=t1)\n",
    "    with pyro.plate(\"2\"):\n",
    "        l2 = pyro.sample(\"l2\", dist.Beta(1., 1.))\n",
    "        t2 = pyro.sample(\"t2\", dist.Bernoulli(l2), obs=t2)\n",
    "    return t1,t2\n",
    "\n",
    "def model2_without():\n",
    "    with pyro.plate(\"1\"):\n",
    "        l1 = pyro.sample(\"l1\", dist.Beta(1., 1.))\n",
    "        t1 = pyro.sample(\"t1\", dist.Bernoulli(l1))\n",
    "    with pyro.plate(\"2\"):\n",
    "        l2 = pyro.sample(\"l2\", dist.Beta(1., 1.))\n",
    "        t2 = pyro.sample(\"t2\", dist.Bernoulli(l2))\n",
    "    return t1,t2"
   ],
   "metadata": {
    "collapsed": false,
    "pycharm": {
     "name": "#%%\n"
    }
   }
  },
  {
   "cell_type": "code",
   "execution_count": 3,
   "outputs": [],
   "source": [
    "def model(athlete=None, paying=None):\n",
    "    with pyro.plate(\"A\"):\n",
    "        latent_a = pyro.sample(\"latent_athlete\", dist.Beta(1.,1.))\n",
    "        a = pyro.sample(\"athlete\", dist.Bernoulli(latent_a), obs=athlete)\n",
    "    with pyro.plate(\"P\"):\n",
    "        latent_p = pyro.sample(\"latent_paying\", dist.Beta(1.,1.))\n",
    "        p = pyro.sample(\"paying\", dist.Bernoulli(latent_p), obs=paying)\n",
    "    return a, p"
   ],
   "metadata": {
    "collapsed": false,
    "pycharm": {
     "name": "#%%\n"
    }
   }
  },
  {
   "cell_type": "code",
   "execution_count": 76,
   "outputs": [
    {
     "data": {
      "text/plain": "(tensor(-0.8244), tensor(-2.4242))"
     },
     "execution_count": 76,
     "metadata": {},
     "output_type": "execute_result"
    }
   ],
   "source": [
    "trace1 = pyro.poutine.trace(model2_with).get_trace(torch.tensor(1.), torch.tensor(0.))\n",
    "trace2 = pyro.poutine.trace(pyro.condition(model2_without, {\"t1\": torch.tensor(1.), \"t2\": torch.tensor(0.)})).get_trace()\n",
    "\n",
    "trace1.log_prob_sum(), trace2.log_prob_sum()"
   ],
   "metadata": {
    "collapsed": false,
    "pycharm": {
     "name": "#%%\n"
    }
   }
  },
  {
   "cell_type": "code",
   "execution_count": 5,
   "outputs": [
    {
     "data": {
      "text/plain": "(tensor(-2.7726), tensor(-2.7726))"
     },
     "execution_count": 5,
     "metadata": {},
     "output_type": "execute_result"
    }
   ],
   "source": [
    "cond_with = pyro.condition(model2_with, {\"l1\": torch.tensor(0.25), \"l2\": torch.tensor(0.75)})\n",
    "cond_without = pyro.condition(model2_without, {\"l1\": torch.tensor(0.25), \"l2\": torch.tensor(0.75)})\n",
    "trace1 = pyro.poutine.trace(cond_with).get_trace(torch.tensor(1.), torch.tensor(0.))\n",
    "trace2 = pyro.poutine.trace(pyro.condition(cond_without, {\"t1\": torch.tensor(1.), \"t2\": torch.tensor(0.)})).get_trace()\n",
    "\n",
    "trace1.log_prob_sum(), trace2.log_prob_sum()"
   ],
   "metadata": {
    "collapsed": false,
    "pycharm": {
     "name": "#%%\n"
    }
   }
  },
  {
   "cell_type": "code",
   "execution_count": 7,
   "outputs": [
    {
     "data": {
      "text/plain": "(tensor(-2.7726), tensor(-2.7726))"
     },
     "execution_count": 7,
     "metadata": {},
     "output_type": "execute_result"
    }
   ],
   "source": [
    "cond_model = pyro.condition(model, {\"latent_athlete\": torch.tensor(0.25), \"latent_paying\": torch.tensor(0.75)})\n",
    "\n",
    "trace1 = pyro.poutine.trace(cond_model).get_trace(torch.tensor(1.), torch.tensor(0.))\n",
    "trace2 = pyro.poutine.trace(cond_with).get_trace(torch.tensor(1.), torch.tensor(0.))\n",
    "\n",
    "trace1.log_prob_sum(), trace2.log_prob_sum()"
   ],
   "metadata": {
    "collapsed": false,
    "pycharm": {
     "name": "#%%\n"
    }
   }
  },
  {
   "cell_type": "code",
   "execution_count": 64,
   "outputs": [
    {
     "data": {
      "text/plain": "tensor(0.)"
     },
     "execution_count": 64,
     "metadata": {},
     "output_type": "execute_result"
    }
   ],
   "source": [
    "dist.Beta(torch.tensor(1.),torch.tensor(1.)).log_prob(torch.tensor(0.5))"
   ],
   "metadata": {
    "collapsed": false,
    "pycharm": {
     "name": "#%%\n"
    }
   }
  },
  {
   "cell_type": "code",
   "execution_count": null,
   "outputs": [],
   "source": [],
   "metadata": {
    "collapsed": false,
    "pycharm": {
     "name": "#%%\n"
    }
   }
  }
 ],
 "metadata": {
  "kernelspec": {
   "display_name": "Python 3",
   "language": "python",
   "name": "python3"
  },
  "language_info": {
   "codemirror_mode": {
    "name": "ipython",
    "version": 2
   },
   "file_extension": ".py",
   "mimetype": "text/x-python",
   "name": "python",
   "nbconvert_exporter": "python",
   "pygments_lexer": "ipython2",
   "version": "2.7.6"
  }
 },
 "nbformat": 4,
 "nbformat_minor": 0
}