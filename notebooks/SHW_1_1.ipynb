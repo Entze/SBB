{
 "cells": [
  {
   "cell_type": "code",
   "execution_count": 1,
   "metadata": {
    "collapsed": true
   },
   "outputs": [],
   "source": [
    "\n",
    "import string\n",
    "\n",
    "import funsor\n",
    "import torch\n",
    "from pyro import set_rng_seed as pyro_set_rng_seed\n",
    "\n",
    "from sbb.counting import enumerate_sequences, count_sequences, count_elems\n",
    "\n",
    "funsor.set_backend(\"torch\")\n",
    "torch.set_default_dtype(torch.float32)\n",
    "pyro_set_rng_seed(0)\n",
    "\n",
    "from pyroapi import pyro\n",
    "\n",
    "pyro.clear_param_store()"
   ]
  },
  {
   "cell_type": "code",
   "execution_count": 2,
   "outputs": [
    {
     "name": "stdout",
     "output_type": "stream",
     "text": [
      "tensor([ 97,  98,  99, 100, 101, 102, 103, 104, 105, 106, 107, 108, 109, 110,\n",
      "        111, 112, 113, 114, 115, 116, 117, 118, 119, 120, 121, 122]) torch.Size([26])\n"
     ]
    }
   ],
   "source": [
    "all_lower_alphas = torch.tensor([ord(letter) for letter in string.ascii_lowercase], requires_grad=False)\n",
    "print(all_lower_alphas, all_lower_alphas.size())"
   ],
   "metadata": {
    "collapsed": false,
    "pycharm": {
     "name": "#%%\n"
    }
   }
  },
  {
   "cell_type": "code",
   "execution_count": 3,
   "outputs": [
    {
     "name": "stdout",
     "output_type": "stream",
     "text": [
      "tensor([48, 49, 50, 51, 52, 53, 54, 55, 56, 57]) torch.Size([10])\n"
     ]
    }
   ],
   "source": [
    "all_digits = torch.tensor([ord(d) for d in string.digits], requires_grad=False)\n",
    "print(all_digits, all_digits.size())"
   ],
   "metadata": {
    "collapsed": false,
    "pycharm": {
     "name": "#%%\n"
    }
   }
  },
  {
   "cell_type": "code",
   "execution_count": 4,
   "outputs": [
    {
     "name": "stdout",
     "output_type": "stream",
     "text": [
      "CPU times: user 8.73 s, sys: 12.7 s, total: 21.4 s\n",
      "Wall time: 2.7 s\n"
     ]
    },
    {
     "data": {
      "text/plain": "4569760000"
     },
     "execution_count": 4,
     "metadata": {},
     "output_type": "execute_result"
    }
   ],
   "source": [
    "%%time\n",
    "p = enumerate_sequences((4, all_lower_alphas), (4, all_digits))\n",
    "count_elems(p)"
   ],
   "metadata": {
    "collapsed": false,
    "pycharm": {
     "name": "#%%\n"
    }
   }
  },
  {
   "cell_type": "code",
   "execution_count": 5,
   "outputs": [
    {
     "name": "stdout",
     "output_type": "stream",
     "text": [
      "CPU times: user 36 µs, sys: 50 µs, total: 86 µs\n",
      "Wall time: 11.9 µs\n"
     ]
    },
    {
     "data": {
      "text/plain": "4569760000"
     },
     "execution_count": 5,
     "metadata": {},
     "output_type": "execute_result"
    }
   ],
   "source": [
    "%%time\n",
    "count_sequences((4, all_lower_alphas), (4, all_digits))"
   ],
   "metadata": {
    "collapsed": false,
    "pycharm": {
     "name": "#%%\n"
    }
   }
  },
  {
   "cell_type": "code",
   "execution_count": 6,
   "outputs": [
    {
     "name": "stdout",
     "output_type": "stream",
     "text": [
      "CPU times: user 1.26 s, sys: 682 ms, total: 1.95 s\n",
      "Wall time: 638 ms\n"
     ]
    },
    {
     "data": {
      "text/plain": "2028000"
     },
     "execution_count": 6,
     "metadata": {},
     "output_type": "execute_result"
    }
   ],
   "source": [
    "%%time\n",
    "p = enumerate_sequences(torch.tensor(ord('T')), torch.tensor([ord('A'), ord('H'), ord('M')]), (2, all_lower_alphas),\n",
    "                        (3, all_digits), torch.tensor(9))\n",
    "count_elems(p)"
   ],
   "metadata": {
    "collapsed": false,
    "pycharm": {
     "name": "#%%\n"
    }
   }
  },
  {
   "cell_type": "code",
   "execution_count": 7,
   "outputs": [
    {
     "name": "stdout",
     "output_type": "stream",
     "text": [
      "CPU times: user 77 µs, sys: 0 ns, total: 77 µs\n",
      "Wall time: 51.3 µs\n"
     ]
    },
    {
     "data": {
      "text/plain": "2028000"
     },
     "execution_count": 7,
     "metadata": {},
     "output_type": "execute_result"
    }
   ],
   "source": [
    "%%time\n",
    "count_sequences(torch.tensor(ord('T')), torch.tensor([ord('A'), ord('H'), ord('M')]), (2, all_lower_alphas),\n",
    "                (3, all_digits), torch.tensor(9))"
   ],
   "metadata": {
    "collapsed": false,
    "pycharm": {
     "name": "#%%\n"
    }
   }
  }
 ],
 "metadata": {
  "kernelspec": {
   "display_name": "Python 3",
   "language": "python",
   "name": "python3"
  },
  "language_info": {
   "codemirror_mode": {
    "name": "ipython",
    "version": 2
   },
   "file_extension": ".py",
   "mimetype": "text/x-python",
   "name": "python",
   "nbconvert_exporter": "python",
   "pygments_lexer": "ipython2",
   "version": "2.7.6"
  }
 },
 "nbformat": 4,
 "nbformat_minor": 0
}