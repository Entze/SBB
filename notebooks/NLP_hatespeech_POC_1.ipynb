{
 "cells": [
  {
   "cell_type": "code",
   "execution_count": 1,
   "metadata": {
    "collapsed": true,
    "pycharm": {
     "name": "#%%\n"
    }
   },
   "outputs": [],
   "source": [
    "import random\n",
    "from collections import OrderedDict, defaultdict\n",
    "\n",
    "#import funsor\n",
    "from copy import deepcopy\n",
    "\n",
    "import torch\n",
    "from pyro import set_rng_seed as pyro_set_rng_seed\n",
    "\n",
    "#funsor.set_backend(\"torch\")\n",
    "from pyro.distributions import constraints\n",
    "from pyro.infer import config_enumerate, TraceEnum_ELBO\n",
    "from tqdm import trange\n",
    "\n",
    "torch.set_default_dtype(torch.float32)\n",
    "pyro_set_rng_seed(0)\n",
    "\n",
    "#import pyro.contrib.funsor\n",
    "from pyroapi import pyro\n",
    "from pyroapi import distributions as dist\n",
    "\n",
    "pyro.clear_param_store()"
   ]
  },
  {
   "cell_type": "code",
   "execution_count": 2,
   "outputs": [
    {
     "data": {
      "text/plain": "['word0',\n 'word1',\n 'word2',\n 'word3',\n 'word4',\n 'word5',\n 'word6',\n 'word7',\n 'word8',\n 'word9',\n 'word10',\n 'word11']"
     },
     "execution_count": 2,
     "metadata": {},
     "output_type": "execute_result"
    }
   ],
   "source": [
    "words = [\"word\"+str(i) for i in range(12)]\n",
    "words"
   ],
   "metadata": {
    "collapsed": false,
    "pycharm": {
     "name": "#%%\n"
    }
   }
  },
  {
   "cell_type": "code",
   "execution_count": 3,
   "outputs": [
    {
     "name": "stdout",
     "output_type": "stream",
     "text": [
      "['word0', 'word1', 'word2', 'word3', 'word4', 'word5', 'word6', 'word7', 'word8', 'word9', 'word10', 'word11']\n",
      "tensor(11)\n",
      "tensor(7)\n",
      "tensor(4)\n",
      "tensor(8)\n",
      "tensor(5)\n",
      "tensor(5)\n",
      "tensor(1)\n",
      "tensor(1)\n",
      "tensor(2)\n",
      "tensor(0)\n",
      "tensor(0)\n",
      "tensor(0)\n"
     ]
    }
   ],
   "source": [
    "choosable_words = words.copy()\n",
    "print(choosable_words)\n",
    "sentences = []\n",
    "for i in range(3):\n",
    "    sentence = []\n",
    "    for s in range(4):\n",
    "        s = dist.Categorical(torch.ones(len(choosable_words))).sample()\n",
    "        print(s)\n",
    "        sentence.append(choosable_words[s])\n",
    "        del choosable_words[s]\n",
    "    sentences.append(sentence)"
   ],
   "metadata": {
    "collapsed": false,
    "pycharm": {
     "name": "#%%\n"
    }
   }
  },
  {
   "cell_type": "code",
   "execution_count": 4,
   "outputs": [
    {
     "data": {
      "text/plain": "[['word11', 'word7', 'word4', 'word10'],\n ['word6', 'word8', 'word1', 'word2'],\n ['word5', 'word0', 'word3', 'word9']]"
     },
     "execution_count": 4,
     "metadata": {},
     "output_type": "execute_result"
    }
   ],
   "source": [
    "sentences"
   ],
   "metadata": {
    "collapsed": false,
    "pycharm": {
     "name": "#%%\n"
    }
   }
  },
  {
   "cell_type": "code",
   "execution_count": 5,
   "outputs": [
    {
     "name": "stdout",
     "output_type": "stream",
     "text": [
      "['word0', 'word1', 'word2', 'word3', 'word4', 'word5', 'word6', 'word7', 'word8', 'word9', 'word10', 'word11']\n",
      "tensor(4)\n",
      "tensor(7)\n",
      "tensor(5)\n",
      "tensor(5)\n",
      "tensor(4)\n",
      "tensor(2)\n",
      "tensor(7)\n",
      "tensor(9)\n",
      "tensor(2)\n",
      "tensor(8)\n",
      "tensor(1)\n",
      "tensor(6)\n"
     ]
    }
   ],
   "source": [
    "choosable_words = words.copy()\n",
    "print(choosable_words)\n",
    "sentences_random = []\n",
    "for i in range(3):\n",
    "    sentence = []\n",
    "    for s in range(4):\n",
    "        s = dist.Categorical(torch.ones(len(choosable_words))).sample()\n",
    "        print(s)\n",
    "        sentence.append(choosable_words[s])\n",
    "    sentences_random.append(sentence)"
   ],
   "metadata": {
    "collapsed": false,
    "pycharm": {
     "name": "#%%\n"
    }
   }
  },
  {
   "cell_type": "code",
   "execution_count": 6,
   "outputs": [
    {
     "data": {
      "text/plain": "[['word4', 'word7', 'word5', 'word5'],\n ['word4', 'word2', 'word7', 'word9'],\n ['word2', 'word8', 'word1', 'word6']]"
     },
     "execution_count": 6,
     "metadata": {},
     "output_type": "execute_result"
    }
   ],
   "source": [
    "# 0. data generation\n",
    "sentences_random"
   ],
   "metadata": {
    "collapsed": false,
    "pycharm": {
     "name": "#%%\n"
    }
   }
  },
  {
   "cell_type": "code",
   "execution_count": 7,
   "outputs": [
    {
     "data": {
      "text/plain": "[(['word4', 'word7', 'word5', 'word5'], 1),\n (['word4', 'word2', 'word7', 'word9'], 0),\n (['word2', 'word8', 'word1', 'word6'], 1)]"
     },
     "execution_count": 7,
     "metadata": {},
     "output_type": "execute_result"
    }
   ],
   "source": [
    "data = [(sentence, random.getrandbits(1)) for sentence in sentences_random]\n",
    "data"
   ],
   "metadata": {
    "collapsed": false,
    "pycharm": {
     "name": "#%%\n"
    }
   }
  },
  {
   "cell_type": "code",
   "execution_count": 8,
   "outputs": [],
   "source": [
    "# 1. lexicon construction\n",
    "# raw count/default indexing\n",
    "#\n",
    "all_sentences=deepcopy(data)\n",
    "lexicon = defaultdict(lambda: {0: 0,\n",
    "                               1: 0})"
   ],
   "metadata": {
    "collapsed": false,
    "pycharm": {
     "name": "#%%\n"
    }
   }
  },
  {
   "cell_type": "code",
   "execution_count": 9,
   "outputs": [
    {
     "data": {
      "text/plain": "defaultdict(<function __main__.<lambda>()>,\n            {'word4': {0: 1, 1: 1},\n             'word7': {0: 1, 1: 1},\n             'word5': {0: 0, 1: 2},\n             'word2': {0: 1, 1: 1},\n             'word9': {0: 1, 1: 0},\n             'word8': {0: 0, 1: 1},\n             'word1': {0: 0, 1: 1},\n             'word6': {0: 0, 1: 1}})"
     },
     "execution_count": 9,
     "metadata": {},
     "output_type": "execute_result"
    }
   ],
   "source": [
    "for sentence,label in all_sentences:\n",
    "    for word in sentence:\n",
    "        lexicon[word][label] += 1\n",
    "lexicon"
   ],
   "metadata": {
    "collapsed": false,
    "pycharm": {
     "name": "#%%\n"
    }
   }
  },
  {
   "cell_type": "code",
   "execution_count": 10,
   "outputs": [
    {
     "data": {
      "text/plain": "defaultdict(<function __main__.<lambda>()>,\n            {'word4': {0: 1, 1: 1, 'alpha': 2, 'beta': 2},\n             'word7': {0: 1, 1: 1, 'alpha': 2, 'beta': 2},\n             'word5': {0: 0, 1: 2, 'alpha': 1, 'beta': 3},\n             'word2': {0: 1, 1: 1, 'alpha': 2, 'beta': 2},\n             'word9': {0: 1, 1: 0, 'alpha': 2, 'beta': 1},\n             'word8': {0: 0, 1: 1, 'alpha': 1, 'beta': 2},\n             'word1': {0: 0, 1: 1, 'alpha': 1, 'beta': 2},\n             'word6': {0: 0, 1: 1, 'alpha': 1, 'beta': 2}})"
     },
     "execution_count": 10,
     "metadata": {},
     "output_type": "execute_result"
    }
   ],
   "source": [
    "\n",
    "# 2. values learning\n",
    "for word in lexicon:\n",
    "    lexicon[word]['alpha'] = lexicon[word][0] + 1\n",
    "    lexicon[word]['beta'] = lexicon[word][1] + 1\n",
    "\n",
    "lexicon = defaultdict(lambda: {\n",
    "    0: 0,\n",
    "    1: 0,\n",
    "    'alpha': 1,\n",
    "    'beta': 1}, lexicon)\n",
    "lexicon"
   ],
   "metadata": {
    "collapsed": false,
    "pycharm": {
     "name": "#%%\n"
    }
   }
  },
  {
   "cell_type": "code",
   "execution_count": 11,
   "outputs": [],
   "source": [
    "# 3. Classification\n",
    "def classify(sen, lex):\n",
    "    alpha_beta = []\n",
    "    for word in sen:\n",
    "        alpha_beta.append((lex[word]['alpha'], lex[word]['beta']))\n",
    "\n",
    "    alpha_beta_t = torch.tensor(alpha_beta)\n",
    "    alpha_beta_t = torch.sum(alpha_beta_t, dim=0)\n",
    "    alpha = alpha_beta_t[0]\n",
    "    beta = alpha_beta_t[1]\n",
    "    return alpha/(alpha+beta)"
   ],
   "metadata": {
    "collapsed": false,
    "pycharm": {
     "name": "#%%\n"
    }
   }
  },
  {
   "cell_type": "code",
   "execution_count": 12,
   "outputs": [
    {
     "data": {
      "text/plain": "tensor(0.4444)"
     },
     "execution_count": 12,
     "metadata": {},
     "output_type": "execute_result"
    }
   ],
   "source": [
    "classify(['word1', 'word3', 'word2'], lexicon)"
   ],
   "metadata": {
    "collapsed": false,
    "pycharm": {
     "name": "#%%\n"
    }
   }
  },
  {
   "cell_type": "code",
   "execution_count": 13,
   "outputs": [],
   "source": [
    "# 4. Evaluation"
   ],
   "metadata": {
    "collapsed": false,
    "pycharm": {
     "name": "#%%\n"
    }
   }
  },
  {
   "cell_type": "code",
   "execution_count": 12,
   "outputs": [
    {
     "data": {
      "text/plain": "tensor([2.2873, 1.3397, 1.1369, 1.6936, 3.4163])"
     },
     "execution_count": 12,
     "metadata": {},
     "output_type": "execute_result"
    }
   ],
   "source": [
    "torch.distributions.LogNormal(1.,0.5).sample((5,))"
   ],
   "metadata": {
    "collapsed": false,
    "pycharm": {
     "name": "#%%\n"
    }
   }
  },
  {
   "cell_type": "code",
   "execution_count": null,
   "outputs": [],
   "source": [],
   "metadata": {
    "collapsed": false,
    "pycharm": {
     "name": "#%%\n"
    }
   }
  }
 ],
 "metadata": {
  "kernelspec": {
   "display_name": "Python 3",
   "language": "python",
   "name": "python3"
  },
  "language_info": {
   "codemirror_mode": {
    "name": "ipython",
    "version": 2
   },
   "file_extension": ".py",
   "mimetype": "text/x-python",
   "name": "python",
   "nbconvert_exporter": "python",
   "pygments_lexer": "ipython2",
   "version": "2.7.6"
  }
 },
 "nbformat": 4,
 "nbformat_minor": 0
}