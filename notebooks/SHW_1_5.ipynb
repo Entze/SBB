{
 "cells": [
  {
   "cell_type": "code",
   "execution_count": 1,
   "metadata": {
    "collapsed": true
   },
   "outputs": [],
   "source": [
    "import math\n",
    "\n",
    "import torch\n",
    "from pyro.distributions import constraints\n",
    "from pyroapi import pyro\n",
    "\n",
    "import pyro.distributions as dist\n",
    "from tqdm import trange\n",
    "\n",
    "import pandas as pd\n",
    "import matplotlib as plt"
   ]
  },
  {
   "cell_type": "code",
   "execution_count": 2,
   "outputs": [],
   "source": [
    "pyro.clear_param_store()"
   ],
   "metadata": {
    "collapsed": false,
    "pycharm": {
     "name": "#%%\n"
    }
   }
  },
  {
   "cell_type": "code",
   "execution_count": 3,
   "outputs": [
    {
     "data": {
      "text/plain": "(tensor([[ True,  True],\n         [ True,  True],\n         [ True,  True],\n         [ True,  True],\n         [ True,  True],\n         [ True,  True],\n         [ True,  True],\n         [ True,  True],\n         [ True,  True],\n         [ True,  True],\n         [ True,  True],\n         [ True,  True],\n         [ True,  True],\n         [ True,  True],\n         [ True,  True],\n         [ True,  True],\n         [ True,  True],\n         [ True,  True],\n         [ True,  True],\n         [ True,  True],\n         [ True,  True],\n         [ True,  True],\n         [ True,  True],\n         [ True,  True],\n         [ True,  True],\n         [ True,  True],\n         [ True,  True],\n         [ True,  True],\n         [ True,  True],\n         [ True,  True],\n         [ True,  True],\n         [ True,  True],\n         [ True,  True],\n         [ True,  True],\n         [ True,  True],\n         [ True,  True],\n         [ True,  True],\n         [ True,  True],\n         [ True,  True],\n         [ True,  True],\n         [ True,  True],\n         [ True,  True],\n         [ True,  True],\n         [ True,  True],\n         [ True,  True],\n         [ True,  True],\n         [ True,  True],\n         [ True,  True],\n         [ True,  True],\n         [ True,  True],\n         [ True,  True],\n         [ True,  True],\n         [ True,  True],\n         [ True,  True],\n         [ True,  True],\n         [ True,  True],\n         [ True,  True],\n         [ True,  True],\n         [ True,  True],\n         [ True,  True],\n         [ True,  True],\n         [ True,  True],\n         [ True,  True],\n         [ True,  True],\n         [ True,  True],\n         [ True,  True],\n         [ True,  True],\n         [ True,  True],\n         [ True,  True],\n         [ True,  True],\n         [ True,  True],\n         [ True,  True],\n         [ True,  True],\n         [ True,  True],\n         [ True,  True],\n         [ True,  True],\n         [ True,  True],\n         [ True,  True],\n         [ True,  True],\n         [ True,  True],\n         [ True, False],\n         [ True, False],\n         [ True, False],\n         [ True, False],\n         [ True, False],\n         [ True, False],\n         [ True, False],\n         [ True, False],\n         [ True, False],\n         [ True, False],\n         [ True, False],\n         [ True, False],\n         [ True, False],\n         [ True, False],\n         [ True, False],\n         [ True, False],\n         [ True, False],\n         [ True, False],\n         [ True, False],\n         [ True, False],\n         [False,  True],\n         [False,  True],\n         [False,  True],\n         [False,  True],\n         [False,  True],\n         [False,  True],\n         [False,  True],\n         [False,  True],\n         [False,  True],\n         [False,  True],\n         [False,  True],\n         [False,  True],\n         [False,  True],\n         [False,  True],\n         [False,  True],\n         [False,  True],\n         [False,  True],\n         [False,  True],\n         [False,  True],\n         [False,  True],\n         [False,  True],\n         [False,  True],\n         [False,  True],\n         [False,  True],\n         [False,  True],\n         [False,  True],\n         [False,  True],\n         [False,  True],\n         [False,  True],\n         [False,  True],\n         [False,  True],\n         [False,  True],\n         [False,  True],\n         [False,  True],\n         [False,  True],\n         [False,  True],\n         [False,  True],\n         [False,  True],\n         [False,  True],\n         [False,  True],\n         [False,  True],\n         [False,  True],\n         [False,  True],\n         [False,  True],\n         [False,  True],\n         [False,  True],\n         [False,  True],\n         [False,  True],\n         [False,  True],\n         [False,  True],\n         [False,  True],\n         [False,  True],\n         [False,  True],\n         [False,  True],\n         [False,  True],\n         [False,  True],\n         [False,  True],\n         [False,  True],\n         [False,  True],\n         [False,  True],\n         [False,  True],\n         [False,  True],\n         [False,  True],\n         [False,  True],\n         [False,  True],\n         [False,  True],\n         [False,  True],\n         [False,  True],\n         [False,  True],\n         [False,  True],\n         [False,  True],\n         [False,  True],\n         [False,  True],\n         [False,  True],\n         [False,  True],\n         [False,  True],\n         [False,  True],\n         [False,  True],\n         [False,  True],\n         [False,  True],\n         [False,  True],\n         [False,  True],\n         [False,  True],\n         [False,  True],\n         [False,  True],\n         [False,  True],\n         [False,  True],\n         [False,  True],\n         [False,  True],\n         [False,  True],\n         [False,  True],\n         [False,  True],\n         [False,  True],\n         [False,  True],\n         [False,  True],\n         [False,  True],\n         [False,  True],\n         [False,  True],\n         [False,  True],\n         [False,  True],\n         [False,  True],\n         [False,  True],\n         [False,  True],\n         [False,  True],\n         [False,  True],\n         [False,  True],\n         [False,  True],\n         [False,  True],\n         [False,  True],\n         [False,  True],\n         [False,  True],\n         [False,  True],\n         [False,  True],\n         [False,  True],\n         [False,  True],\n         [False,  True],\n         [False,  True],\n         [False,  True],\n         [False,  True],\n         [False,  True],\n         [False,  True],\n         [False,  True],\n         [False,  True],\n         [False,  True],\n         [False,  True],\n         [False,  True],\n         [False,  True],\n         [False,  True],\n         [False,  True],\n         [False,  True],\n         [False,  True],\n         [False,  True],\n         [False,  True],\n         [False,  True],\n         [False,  True],\n         [False,  True],\n         [False,  True],\n         [False,  True],\n         [False,  True],\n         [False,  True],\n         [False,  True],\n         [False,  True],\n         [False,  True],\n         [False,  True],\n         [False,  True],\n         [False,  True],\n         [False,  True],\n         [False,  True],\n         [False,  True],\n         [False,  True],\n         [False,  True],\n         [False,  True],\n         [False,  True],\n         [False,  True],\n         [False,  True],\n         [False,  True],\n         [False,  True],\n         [False,  True],\n         [False,  True],\n         [False,  True],\n         [False,  True],\n         [False,  True],\n         [False,  True],\n         [False,  True],\n         [False,  True],\n         [False,  True],\n         [False,  True],\n         [False,  True],\n         [False,  True],\n         [False,  True],\n         [False,  True],\n         [False,  True],\n         [False,  True],\n         [False,  True],\n         [False,  True],\n         [False,  True],\n         [False,  True],\n         [False,  True],\n         [False,  True],\n         [False,  True],\n         [False,  True],\n         [False,  True],\n         [False,  True],\n         [False,  True],\n         [False,  True],\n         [False,  True],\n         [False,  True],\n         [False,  True],\n         [False,  True],\n         [False,  True],\n         [False,  True],\n         [False,  True],\n         [False,  True],\n         [False,  True],\n         [False,  True],\n         [False,  True],\n         [False,  True],\n         [False,  True],\n         [False,  True],\n         [False,  True],\n         [False,  True],\n         [False,  True],\n         [False,  True],\n         [False,  True],\n         [False,  True],\n         [False,  True],\n         [False,  True],\n         [False,  True],\n         [False,  True],\n         [False,  True],\n         [False,  True],\n         [False,  True],\n         [False,  True],\n         [False,  True],\n         [False,  True],\n         [False,  True],\n         [False,  True],\n         [False,  True],\n         [False,  True],\n         [False,  True],\n         [False, False],\n         [False, False],\n         [False, False],\n         [False, False],\n         [False, False],\n         [False, False],\n         [False, False],\n         [False, False],\n         [False, False],\n         [False, False],\n         [False, False],\n         [False, False],\n         [False, False],\n         [False, False],\n         [False, False],\n         [False, False],\n         [False, False],\n         [False, False],\n         [False, False],\n         [False, False],\n         [False, False],\n         [False, False],\n         [False, False],\n         [False, False],\n         [False, False],\n         [False, False],\n         [False, False],\n         [False, False],\n         [False, False],\n         [False, False],\n         [False, False],\n         [False, False],\n         [False, False],\n         [False, False],\n         [False, False],\n         [False, False],\n         [False, False],\n         [False, False],\n         [False, False],\n         [False, False],\n         [False, False],\n         [False, False],\n         [False, False],\n         [False, False],\n         [False, False],\n         [False, False],\n         [False, False],\n         [False, False],\n         [False, False],\n         [False, False],\n         [False, False],\n         [False, False],\n         [False, False],\n         [False, False],\n         [False, False],\n         [False, False],\n         [False, False],\n         [False, False],\n         [False, False],\n         [False, False],\n         [False, False],\n         [False, False],\n         [False, False],\n         [False, False],\n         [False, False],\n         [False, False],\n         [False, False],\n         [False, False],\n         [False, False],\n         [False, False],\n         [False, False],\n         [False, False],\n         [False, False],\n         [False, False],\n         [False, False],\n         [False, False],\n         [False, False],\n         [False, False],\n         [False, False],\n         [False, False]]),\n torch.Size([400, 2]))"
     },
     "execution_count": 3,
     "metadata": {},
     "output_type": "execute_result"
    }
   ],
   "source": [
    "raw_data = torch.concat((torch.tensor([True, True]).repeat(80, 1), torch.tensor([True, False]).repeat(20, 1),\n",
    "                         torch.tensor([False, True]).repeat(220, 1), torch.tensor([False, False]).repeat(80, 1)))\n",
    "raw_data, raw_data.size()"
   ],
   "metadata": {
    "collapsed": false,
    "pycharm": {
     "name": "#%%\n"
    }
   }
  },
  {
   "cell_type": "code",
   "execution_count": 4,
   "outputs": [],
   "source": [
    "def model_paying_athletes(data):\n",
    "    p = pyro.sample(\"latent_paying\", dist.Beta(concentration0=.1, concentration1=.3))\n",
    "    obs = data[:, 1].clone().detach().float()\n",
    "    with pyro.plate(\"N\", len(obs)):\n",
    "        return pyro.sample(\"obs\", dist.Bernoulli(p), obs=obs)"
   ],
   "metadata": {
    "collapsed": false,
    "pycharm": {
     "name": "#%%\n"
    }
   }
  },
  {
   "cell_type": "code",
   "execution_count": 5,
   "outputs": [],
   "source": [
    "def guide_paying_athletes(data):\n",
    "    alpha = pyro.param(\"alpha\", torch.tensor(1.), constraint=constraints.positive)\n",
    "    beta = pyro.param(\"beta\", torch.tensor(1.), constraint=constraints.positive)\n",
    "    return pyro.sample(\"latent_paying\", dist.Beta(concentration0=alpha, concentration1=beta))"
   ],
   "metadata": {
    "collapsed": false,
    "pycharm": {
     "name": "#%%\n"
    }
   }
  },
  {
   "cell_type": "code",
   "execution_count": 6,
   "outputs": [],
   "source": [
    "optim = pyro.optim.Adam({\"lr\": 0.0125})\n",
    "loss = pyro.infer.Trace_ELBO()\n",
    "svi = pyro.infer.SVI(model_paying_athletes, guide_paying_athletes, optim, loss)"
   ],
   "metadata": {
    "collapsed": false,
    "pycharm": {
     "name": "#%%\n"
    }
   }
  },
  {
   "cell_type": "code",
   "execution_count": 7,
   "outputs": [
    {
     "name": "stderr",
     "output_type": "stream",
     "text": [
      "100%|██████████| 25000/25000 [01:31<00:00, 273.21it/s]\n"
     ]
    }
   ],
   "source": [
    "losses = []\n",
    "params = []\n",
    "indicators = []\n",
    "\n",
    "for _ in trange(25_000):\n",
    "    l = svi.step(raw_data)\n",
    "    alpha = pyro.param(\"alpha\")\n",
    "    beta = pyro.param(\"beta\")\n",
    "    inferred_mean = alpha / (alpha + beta)\n",
    "    factor = beta / (alpha * (1.0 + alpha + beta))\n",
    "    inferred_std = inferred_mean * math.sqrt(factor)\n",
    "    losses.append({\"loss\": l})\n",
    "    params.append({\"alpha\": alpha.item(), \"beta\": beta.item()})\n",
    "    indicators.append({\"inferred mean\": inferred_mean.item(), \"inferred_std\": inferred_std.item()})"
   ],
   "metadata": {
    "collapsed": false,
    "pycharm": {
     "name": "#%%\n"
    }
   }
  },
  {
   "cell_type": "code",
   "execution_count": 8,
   "outputs": [
    {
     "data": {
      "text/plain": "(tensor(97.5413, grad_fn=<AddBackward0>),\n tensor(290.5682, grad_fn=<AddBackward0>),\n tensor(0.2513, grad_fn=<DivBackward0>),\n tensor(0.0220, grad_fn=<MulBackward0>))"
     },
     "execution_count": 8,
     "metadata": {},
     "output_type": "execute_result"
    }
   ],
   "source": [
    "alpha = pyro.param(\"alpha\")\n",
    "beta = pyro.param(\"beta\")\n",
    "inferred_mean = alpha / (alpha + beta)\n",
    "factor = beta / (alpha * (1.0 + alpha + beta))\n",
    "inferred_std = inferred_mean * math.sqrt(factor)\n",
    "alpha, beta, inferred_mean, inferred_std"
   ],
   "metadata": {
    "collapsed": false,
    "pycharm": {
     "name": "#%%\n"
    }
   }
  },
  {
   "cell_type": "code",
   "execution_count": 9,
   "outputs": [
    {
     "data": {
      "image/svg+xml": "<?xml version=\"1.0\" encoding=\"UTF-8\" standalone=\"no\"?>\n<!DOCTYPE svg PUBLIC \"-//W3C//DTD SVG 1.1//EN\"\n \"http://www.w3.org/Graphics/SVG/1.1/DTD/svg11.dtd\">\n<!-- Generated by graphviz version 2.43.0 (0)\n -->\n<!-- Title: %3 Pages: 1 -->\n<svg width=\"125pt\" height=\"155pt\"\n viewBox=\"0.00 0.00 124.99 155.00\" xmlns=\"http://www.w3.org/2000/svg\" xmlns:xlink=\"http://www.w3.org/1999/xlink\">\n<g id=\"graph0\" class=\"graph\" transform=\"scale(1 1) rotate(0) translate(4 151)\">\n<title>%3</title>\n<polygon fill=\"white\" stroke=\"transparent\" points=\"-4,4 -4,-151 120.99,-151 120.99,4 -4,4\"/>\n<g id=\"clust1\" class=\"cluster\">\n<title>cluster_N</title>\n<polygon fill=\"none\" stroke=\"black\" points=\"23.49,-8 23.49,-83 93.49,-83 93.49,-8 23.49,-8\"/>\n<text text-anchor=\"middle\" x=\"80.49\" y=\"-15.8\" font-family=\"Times,serif\" font-size=\"14.00\">N</text>\n</g>\n<!-- latent_paying -->\n<g id=\"node1\" class=\"node\">\n<title>latent_paying</title>\n<ellipse fill=\"white\" stroke=\"black\" cx=\"58.49\" cy=\"-129\" rx=\"58.49\" ry=\"18\"/>\n<text text-anchor=\"middle\" x=\"58.49\" y=\"-125.3\" font-family=\"Times,serif\" font-size=\"14.00\">latent_paying</text>\n</g>\n<!-- obs -->\n<g id=\"node2\" class=\"node\">\n<title>obs</title>\n<ellipse fill=\"grey\" stroke=\"black\" cx=\"58.49\" cy=\"-57\" rx=\"27\" ry=\"18\"/>\n<text text-anchor=\"middle\" x=\"58.49\" y=\"-53.3\" font-family=\"Times,serif\" font-size=\"14.00\">obs</text>\n</g>\n<!-- latent_paying&#45;&gt;obs -->\n<g id=\"edge1\" class=\"edge\">\n<title>latent_paying&#45;&gt;obs</title>\n<path fill=\"none\" stroke=\"black\" d=\"M58.49,-110.7C58.49,-102.98 58.49,-93.71 58.49,-85.11\"/>\n<polygon fill=\"black\" stroke=\"black\" points=\"61.99,-85.1 58.49,-75.1 54.99,-85.1 61.99,-85.1\"/>\n</g>\n</g>\n</svg>\n",
      "text/plain": "<graphviz.graphs.Digraph at 0x7f0ed135e1f0>"
     },
     "execution_count": 9,
     "metadata": {},
     "output_type": "execute_result"
    }
   ],
   "source": [
    "pyro.render_model(model_paying_athletes, model_args=(raw_data,))"
   ],
   "metadata": {
    "collapsed": false,
    "pycharm": {
     "name": "#%%\n"
    }
   }
  },
  {
   "cell_type": "code",
   "execution_count": 10,
   "outputs": [
    {
     "data": {
      "image/svg+xml": "<?xml version=\"1.0\" encoding=\"UTF-8\" standalone=\"no\"?>\n<!DOCTYPE svg PUBLIC \"-//W3C//DTD SVG 1.1//EN\"\n \"http://www.w3.org/Graphics/SVG/1.1/DTD/svg11.dtd\">\n<!-- Generated by graphviz version 2.43.0 (0)\n -->\n<!-- Title: %3 Pages: 1 -->\n<svg width=\"125pt\" height=\"44pt\"\n viewBox=\"0.00 0.00 124.99 44.00\" xmlns=\"http://www.w3.org/2000/svg\" xmlns:xlink=\"http://www.w3.org/1999/xlink\">\n<g id=\"graph0\" class=\"graph\" transform=\"scale(1 1) rotate(0) translate(4 40)\">\n<title>%3</title>\n<polygon fill=\"white\" stroke=\"transparent\" points=\"-4,4 -4,-40 120.99,-40 120.99,4 -4,4\"/>\n<!-- latent_paying -->\n<g id=\"node1\" class=\"node\">\n<title>latent_paying</title>\n<ellipse fill=\"white\" stroke=\"black\" cx=\"58.49\" cy=\"-18\" rx=\"58.49\" ry=\"18\"/>\n<text text-anchor=\"middle\" x=\"58.49\" y=\"-14.3\" font-family=\"Times,serif\" font-size=\"14.00\">latent_paying</text>\n</g>\n</g>\n</svg>\n",
      "text/plain": "<graphviz.graphs.Digraph at 0x7f0ed1346130>"
     },
     "execution_count": 10,
     "metadata": {},
     "output_type": "execute_result"
    }
   ],
   "source": [
    "pyro.render_model(guide_paying_athletes, model_args=(raw_data,))"
   ],
   "metadata": {
    "collapsed": false,
    "pycharm": {
     "name": "#%%\n"
    }
   }
  },
  {
   "cell_type": "code",
   "execution_count": 11,
   "outputs": [
    {
     "data": {
      "text/plain": "<AxesSubplot:>"
     },
     "execution_count": 11,
     "metadata": {},
     "output_type": "execute_result"
    },
    {
     "data": {
      "text/plain": "<Figure size 432x288 with 1 Axes>",
      "image/png": "[encoded data removed]"
     },
     "metadata": {
      "needs_background": "light"
     },
     "output_type": "display_data"
    }
   ],
   "source": [
    "df = pd.DataFrame(losses)\n",
    "\n",
    "df.plot()"
   ],
   "metadata": {
    "collapsed": false,
    "pycharm": {
     "name": "#%%\n"
    }
   }
  },
  {
   "cell_type": "code",
   "execution_count": 12,
   "outputs": [
    {
     "data": {
      "text/plain": "<AxesSubplot:>"
     },
     "execution_count": 12,
     "metadata": {},
     "output_type": "execute_result"
    },
    {
     "data": {
      "text/plain": "<Figure size 432x288 with 1 Axes>",
      "image/png": "[encoded data removed]"
     },
     "metadata": {
      "needs_background": "light"
     },
     "output_type": "display_data"
    }
   ],
   "source": [
    "df = pd.DataFrame(params)\n",
    "\n",
    "df.plot()"
   ],
   "metadata": {
    "collapsed": false,
    "pycharm": {
     "name": "#%%\n"
    }
   }
  },
  {
   "cell_type": "code",
   "execution_count": 13,
   "outputs": [
    {
     "data": {
      "text/plain": "<AxesSubplot:>"
     },
     "execution_count": 13,
     "metadata": {},
     "output_type": "execute_result"
    },
    {
     "data": {
      "text/plain": "<Figure size 432x288 with 1 Axes>",
      "image/png": "[encoded data removed]"
     },
     "metadata": {
      "needs_background": "light"
     },
     "output_type": "display_data"
    }
   ],
   "source": [
    "df = pd.DataFrame(indicators)\n",
    "\n",
    "df.plot()"
   ],
   "metadata": {
    "collapsed": false,
    "pycharm": {
     "name": "#%%\n"
    }
   }
  },
  {
   "cell_type": "code",
   "execution_count": 14,
   "outputs": [
    {
     "data": {
      "text/plain": "tensor([1., 1., 1., 1., 1., 1., 1., 1., 1., 1., 1., 1., 1., 1., 1., 1., 1., 1.,\n        1., 1., 1., 1., 1., 1., 1., 1., 1., 1., 1., 1., 1., 1., 1., 1., 1., 1.,\n        1., 1., 1., 1., 1., 1., 1., 1., 1., 1., 1., 1., 1., 1., 1., 1., 1., 1.,\n        1., 1., 1., 1., 1., 1., 1., 1., 1., 1., 1., 1., 1., 1., 1., 1., 1., 1.,\n        1., 1., 1., 1., 1., 1., 1., 1., 0., 0., 0., 0., 0., 0., 0., 0., 0., 0.,\n        0., 0., 0., 0., 0., 0., 0., 0., 0., 0., 1., 1., 1., 1., 1., 1., 1., 1.,\n        1., 1., 1., 1., 1., 1., 1., 1., 1., 1., 1., 1., 1., 1., 1., 1., 1., 1.,\n        1., 1., 1., 1., 1., 1., 1., 1., 1., 1., 1., 1., 1., 1., 1., 1., 1., 1.,\n        1., 1., 1., 1., 1., 1., 1., 1., 1., 1., 1., 1., 1., 1., 1., 1., 1., 1.,\n        1., 1., 1., 1., 1., 1., 1., 1., 1., 1., 1., 1., 1., 1., 1., 1., 1., 1.,\n        1., 1., 1., 1., 1., 1., 1., 1., 1., 1., 1., 1., 1., 1., 1., 1., 1., 1.,\n        1., 1., 1., 1., 1., 1., 1., 1., 1., 1., 1., 1., 1., 1., 1., 1., 1., 1.,\n        1., 1., 1., 1., 1., 1., 1., 1., 1., 1., 1., 1., 1., 1., 1., 1., 1., 1.,\n        1., 1., 1., 1., 1., 1., 1., 1., 1., 1., 1., 1., 1., 1., 1., 1., 1., 1.,\n        1., 1., 1., 1., 1., 1., 1., 1., 1., 1., 1., 1., 1., 1., 1., 1., 1., 1.,\n        1., 1., 1., 1., 1., 1., 1., 1., 1., 1., 1., 1., 1., 1., 1., 1., 1., 1.,\n        1., 1., 1., 1., 1., 1., 1., 1., 1., 1., 1., 1., 1., 1., 1., 1., 1., 1.,\n        1., 1., 1., 1., 1., 1., 1., 1., 1., 1., 1., 1., 1., 1., 0., 0., 0., 0.,\n        0., 0., 0., 0., 0., 0., 0., 0., 0., 0., 0., 0., 0., 0., 0., 0., 0., 0.,\n        0., 0., 0., 0., 0., 0., 0., 0., 0., 0., 0., 0., 0., 0., 0., 0., 0., 0.,\n        0., 0., 0., 0., 0., 0., 0., 0., 0., 0., 0., 0., 0., 0., 0., 0., 0., 0.,\n        0., 0., 0., 0., 0., 0., 0., 0., 0., 0., 0., 0., 0., 0., 0., 0., 0., 0.,\n        0., 0., 0., 0.])"
     },
     "execution_count": 14,
     "metadata": {},
     "output_type": "execute_result"
    }
   ],
   "source": [
    "model_paying_athletes(raw_data)"
   ],
   "metadata": {
    "collapsed": false,
    "pycharm": {
     "name": "#%%\n"
    }
   }
  },
  {
   "cell_type": "code",
   "execution_count": 15,
   "outputs": [
    {
     "data": {
      "text/plain": "tensor(0.7273, grad_fn=<SelectBackward0>)"
     },
     "execution_count": 15,
     "metadata": {},
     "output_type": "execute_result"
    }
   ],
   "source": [
    "guide_paying_athletes(raw_data)"
   ],
   "metadata": {
    "collapsed": false,
    "pycharm": {
     "name": "#%%\n"
    }
   }
  },
  {
   "cell_type": "code",
   "execution_count": 33,
   "outputs": [],
   "source": [
    "def model(athlete=None, paying=None, prior_a_alpha=1., prior_a_beta=1., prior_p_alpha=1., prior_p_beta=1.):\n",
    "    with pyro.plate(\"A\"):\n",
    "        latent_a = pyro.sample(\"latent_athlete\",\n",
    "                               dist.Beta(concentration0=torch.as_tensor(prior_a_alpha, dtype=torch.float), concentration1=torch.as_tensor(prior_a_beta, dtype=torch.float)))\n",
    "        a = pyro.sample(\"athlete\", dist.Bernoulli(latent_a),\n",
    "                        obs=athlete if athlete is None else torch.as_tensor(athlete, dtype=torch.float))\n",
    "    with pyro.plate(\"P\"):\n",
    "        latent_p = pyro.sample(\"latent_paying\",\n",
    "                               dist.Beta(concentration0=torch.as_tensor(prior_p_alpha, dtype=torch.float), concentration1=torch.as_tensor(prior_p_beta, dtype=torch.float)))\n",
    "        p = pyro.sample(\"paying\", dist.Bernoulli(latent_p), obs=paying if paying is None else torch.as_tensor(paying, dtype=torch.float))\n",
    "    return a, p"
   ],
   "metadata": {
    "collapsed": false,
    "pycharm": {
     "name": "#%%\n"
    }
   }
  },
  {
   "cell_type": "code",
   "execution_count": 17,
   "outputs": [],
   "source": [
    "def guide(athlete=None, paying=None, prior_a_alpha=1., prior_a_beta=1., prior_p_alpha=1., prior_p_beta=1.):\n",
    "    with pyro.plate(\"A\"):\n",
    "        a_alpha = pyro.param(\"a_alpha\", torch.as_tensor(prior_a_alpha, dtype=torch.float), constraint=constraints.positive)\n",
    "        a_beta = pyro.param(\"a_beta\", torch.as_tensor(prior_a_beta, dtype=torch.float), constraint=constraints.positive)\n",
    "        latent_a = pyro.sample(\"latent_athlete\", dist.Beta(concentration0=a_alpha, concentration1=a_beta))\n",
    "        if athlete is None:\n",
    "            pyro.sample(\"athlete\", pyro.Bernoulli(latent_a))\n",
    "    with pyro.plate(\"P\"):\n",
    "        p_alpha = pyro.param(\"p_alpha\", torch.tensor(1.), constraint=constraints.positive)\n",
    "        p_beta = pyro.param(\"p_beta\", torch.tensor(1.), constraint=constraints.positive)\n",
    "        pyro.sample(\"latent_paying\", dist.Beta(concentration0=p_alpha, concentration1=p_beta))\n",
    "        if paying is None:\n",
    "            pyro.sample(\"paying\", pyro.Bernoulli(latent_a))\n"
   ],
   "metadata": {
    "collapsed": false,
    "pycharm": {
     "name": "#%%\n"
    }
   }
  },
  {
   "cell_type": "code",
   "execution_count": 18,
   "outputs": [
    {
     "data": {
      "text/plain": "(tensor(0.), tensor(1.))"
     },
     "execution_count": 18,
     "metadata": {},
     "output_type": "execute_result"
    }
   ],
   "source": [
    "model()"
   ],
   "metadata": {
    "collapsed": false,
    "pycharm": {
     "name": "#%%\n"
    }
   }
  },
  {
   "cell_type": "code",
   "execution_count": 19,
   "outputs": [
    {
     "data": {
      "text/plain": "(tensor([3.4920, 4.5653, 2.2953, 3.8395]),\n tensor([0.1772, 0.5184, 0.0536, 0.2509]))"
     },
     "execution_count": 19,
     "metadata": {},
     "output_type": "execute_result"
    }
   ],
   "source": [
    "probs = []\n",
    "for a, p in ((0, 0), (0, 1), (1, 0), (1, 1)):\n",
    "    trace = pyro.poutine.trace(model)\n",
    "    probs.append(trace.get_trace(torch.tensor(a, dtype=torch.float), torch.tensor(p, dtype=torch.float)).log_prob_sum())\n",
    "\n",
    "probs = torch.tensor(probs)\n",
    "\n",
    "probs, torch.distributions.utils.logits_to_probs(probs)"
   ],
   "metadata": {
    "collapsed": false,
    "pycharm": {
     "name": "#%%\n"
    }
   }
  },
  {
   "cell_type": "code",
   "execution_count": 20,
   "outputs": [
    {
     "data": {
      "image/svg+xml": "<?xml version=\"1.0\" encoding=\"UTF-8\" standalone=\"no\"?>\n<!DOCTYPE svg PUBLIC \"-//W3C//DTD SVG 1.1//EN\"\n \"http://www.w3.org/Graphics/SVG/1.1/DTD/svg11.dtd\">\n<!-- Generated by graphviz version 2.43.0 (0)\n -->\n<!-- Title: %3 Pages: 1 -->\n<svg width=\"296pt\" height=\"171pt\"\n viewBox=\"0.00 0.00 296.00 171.00\" xmlns=\"http://www.w3.org/2000/svg\" xmlns:xlink=\"http://www.w3.org/1999/xlink\">\n<g id=\"graph0\" class=\"graph\" transform=\"scale(1 1) rotate(0) translate(4 167)\">\n<title>%3</title>\n<polygon fill=\"white\" stroke=\"transparent\" points=\"-4,4 -4,-167 292,-167 292,4 -4,4\"/>\n<g id=\"clust1\" class=\"cluster\">\n<title>cluster_A</title>\n<polygon fill=\"none\" stroke=\"black\" points=\"8,-8 8,-155 140,-155 140,-8 8,-8\"/>\n<text text-anchor=\"middle\" x=\"127\" y=\"-15.8\" font-family=\"Times,serif\" font-size=\"14.00\">A</text>\n</g>\n<g id=\"clust2\" class=\"cluster\">\n<title>cluster_P</title>\n<polygon fill=\"none\" stroke=\"black\" points=\"148,-8 148,-155 280,-155 280,-8 148,-8\"/>\n<text text-anchor=\"middle\" x=\"268\" y=\"-15.8\" font-family=\"Times,serif\" font-size=\"14.00\">P</text>\n</g>\n<!-- latent_athlete -->\n<g id=\"node1\" class=\"node\">\n<title>latent_athlete</title>\n<ellipse fill=\"white\" stroke=\"black\" cx=\"74\" cy=\"-129\" rx=\"57.69\" ry=\"18\"/>\n<text text-anchor=\"middle\" x=\"74\" y=\"-125.3\" font-family=\"Times,serif\" font-size=\"14.00\">latent_athlete</text>\n</g>\n<!-- athlete -->\n<g id=\"node2\" class=\"node\">\n<title>athlete</title>\n<ellipse fill=\"white\" stroke=\"black\" cx=\"74\" cy=\"-57\" rx=\"34.39\" ry=\"18\"/>\n<text text-anchor=\"middle\" x=\"74\" y=\"-53.3\" font-family=\"Times,serif\" font-size=\"14.00\">athlete</text>\n</g>\n<!-- latent_athlete&#45;&gt;athlete -->\n<g id=\"edge1\" class=\"edge\">\n<title>latent_athlete&#45;&gt;athlete</title>\n<path fill=\"none\" stroke=\"black\" d=\"M74,-110.7C74,-102.98 74,-93.71 74,-85.11\"/>\n<polygon fill=\"black\" stroke=\"black\" points=\"77.5,-85.1 74,-75.1 70.5,-85.1 77.5,-85.1\"/>\n</g>\n<!-- latent_paying -->\n<g id=\"node3\" class=\"node\">\n<title>latent_paying</title>\n<ellipse fill=\"white\" stroke=\"black\" cx=\"214\" cy=\"-129\" rx=\"58.49\" ry=\"18\"/>\n<text text-anchor=\"middle\" x=\"214\" y=\"-125.3\" font-family=\"Times,serif\" font-size=\"14.00\">latent_paying</text>\n</g>\n<!-- paying -->\n<g id=\"node4\" class=\"node\">\n<title>paying</title>\n<ellipse fill=\"white\" stroke=\"black\" cx=\"214\" cy=\"-57\" rx=\"34.39\" ry=\"18\"/>\n<text text-anchor=\"middle\" x=\"214\" y=\"-53.3\" font-family=\"Times,serif\" font-size=\"14.00\">paying</text>\n</g>\n<!-- latent_paying&#45;&gt;paying -->\n<g id=\"edge2\" class=\"edge\">\n<title>latent_paying&#45;&gt;paying</title>\n<path fill=\"none\" stroke=\"black\" d=\"M214,-110.7C214,-102.98 214,-93.71 214,-85.11\"/>\n<polygon fill=\"black\" stroke=\"black\" points=\"217.5,-85.1 214,-75.1 210.5,-85.1 217.5,-85.1\"/>\n</g>\n</g>\n</svg>\n",
      "text/plain": "<graphviz.graphs.Digraph at 0x7f0ec8fa2640>"
     },
     "execution_count": 20,
     "metadata": {},
     "output_type": "execute_result"
    }
   ],
   "source": [
    "pyro.render_model(model)"
   ],
   "metadata": {
    "collapsed": false,
    "pycharm": {
     "name": "#%%\n"
    }
   }
  },
  {
   "cell_type": "code",
   "execution_count": 21,
   "outputs": [],
   "source": [
    "pyro.clear_param_store()\n",
    "adam = pyro.optim.Adam({\"lr\": 0.025})\n",
    "elbo = pyro.infer.Trace_ELBO()\n",
    "svi = pyro.infer.SVI(model, guide, adam, elbo)"
   ],
   "metadata": {
    "collapsed": false,
    "pycharm": {
     "name": "#%%\n"
    }
   }
  },
  {
   "cell_type": "code",
   "execution_count": 22,
   "outputs": [
    {
     "name": "stderr",
     "output_type": "stream",
     "text": [
      "100%|██████████| 25000/25000 [03:09<00:00, 132.06it/s]\n"
     ]
    }
   ],
   "source": [
    "losses = []\n",
    "athletic_history = []\n",
    "paying_history = []\n",
    "for _ in trange(25_000):\n",
    "    loss = svi.step(athlete=raw_data[:,0], paying=raw_data[:, 1])\n",
    "    a_alpha = pyro.param(\"a_alpha\")\n",
    "    a_beta = pyro.param(\"a_beta\")\n",
    "    p_alpha = pyro.param(\"p_alpha\")\n",
    "    p_beta = pyro.param(\"p_beta\")\n",
    "    losses.append(dict(loss=loss))\n",
    "    athletic_history.append(dict(\n",
    "        a_alpha=a_alpha.item(),\n",
    "        a_beta=a_beta.item()))\n",
    "    paying_history.append(dict(\n",
    "        p_alpha=p_alpha.item(),\n",
    "        p_beta=p_beta.item()))"
   ],
   "metadata": {
    "collapsed": false,
    "pycharm": {
     "name": "#%%\n"
    }
   }
  },
  {
   "cell_type": "code",
   "execution_count": 23,
   "outputs": [
    {
     "data": {
      "text/plain": "<AxesSubplot:>"
     },
     "execution_count": 23,
     "metadata": {},
     "output_type": "execute_result"
    },
    {
     "data": {
      "text/plain": "<Figure size 432x288 with 1 Axes>",
      "image/png": "[encoded data removed]"
     },
     "metadata": {
      "needs_background": "light"
     },
     "output_type": "display_data"
    }
   ],
   "source": [
    "df = pd.DataFrame(losses)\n",
    "\n",
    "df.plot()"
   ],
   "metadata": {
    "collapsed": false,
    "pycharm": {
     "name": "#%%\n"
    }
   }
  },
  {
   "cell_type": "code",
   "execution_count": 24,
   "outputs": [
    {
     "data": {
      "text/plain": "<AxesSubplot:>"
     },
     "execution_count": 24,
     "metadata": {},
     "output_type": "execute_result"
    },
    {
     "data": {
      "text/plain": "<Figure size 432x288 with 1 Axes>",
      "image/png": "[encoded data removed]"
     },
     "metadata": {
      "needs_background": "light"
     },
     "output_type": "display_data"
    }
   ],
   "source": [
    "df = pd.DataFrame(athletic_history)\n",
    "\n",
    "df.plot()"
   ],
   "metadata": {
    "collapsed": false,
    "pycharm": {
     "name": "#%%\n"
    }
   }
  },
  {
   "cell_type": "code",
   "execution_count": 25,
   "outputs": [
    {
     "data": {
      "text/plain": "<AxesSubplot:>"
     },
     "execution_count": 25,
     "metadata": {},
     "output_type": "execute_result"
    },
    {
     "data": {
      "text/plain": "<Figure size 432x288 with 1 Axes>",
      "image/png": "[encoded data removed]"
     },
     "metadata": {
      "needs_background": "light"
     },
     "output_type": "display_data"
    }
   ],
   "source": [
    "df = pd.DataFrame(paying_history)\n",
    "\n",
    "df.plot()"
   ],
   "metadata": {
    "collapsed": false,
    "pycharm": {
     "name": "#%%\n"
    }
   }
  },
  {
   "cell_type": "code",
   "execution_count": 26,
   "outputs": [
    {
     "data": {
      "text/plain": "{'a_alpha': tensor(511.7354, grad_fn=<AddBackward0>),\n 'a_beta': tensor(166.9497, grad_fn=<AddBackward0>),\n 'p_alpha': tensor(206.5899, grad_fn=<AddBackward0>),\n 'p_beta': tensor(575.9086, grad_fn=<AddBackward0>)}"
     },
     "execution_count": 26,
     "metadata": {},
     "output_type": "execute_result"
    }
   ],
   "source": [
    "dict(pyro.get_param_store())"
   ],
   "metadata": {
    "collapsed": false,
    "pycharm": {
     "name": "#%%\n"
    }
   }
  },
  {
   "cell_type": "code",
   "execution_count": 34,
   "outputs": [],
   "source": [
    "def model_alternative(prior_a_alpha=1., prior_a_beta=1., prior_p_alpha=1., prior_p_beta=1.):\n",
    "    with pyro.plate(\"A\"):\n",
    "        latent_a = pyro.sample(\"latent_athlete\",\n",
    "                               dist.Beta(concentration0=torch.as_tensor(prior_a_alpha, dtype=torch.float), concentration1=torch.as_tensor(prior_a_beta, dtype=torch.float)))\n",
    "        a = pyro.sample(\"athlete\", dist.Bernoulli(latent_a))\n",
    "    with pyro.plate(\"P\"):\n",
    "        latent_p = pyro.sample(\"latent_paying\",\n",
    "                               dist.Beta(concentration0=torch.as_tensor(prior_p_alpha, dtype=torch.float), concentration1=torch.as_tensor(prior_p_beta, dtype=torch.float)))\n",
    "        p = pyro.sample(\"paying\", dist.Bernoulli(latent_p))\n",
    "    return a, p"
   ],
   "metadata": {
    "collapsed": false,
    "pycharm": {
     "name": "#%%\n"
    }
   }
  },
  {
   "cell_type": "code",
   "execution_count": 45,
   "outputs": [
    {
     "data": {
      "text/plain": "((tensor(1.), tensor(0.)), (tensor(1.), tensor(0.)))"
     },
     "execution_count": 45,
     "metadata": {},
     "output_type": "execute_result"
    }
   ],
   "source": [
    "cond_model_alternative = pyro.condition(model_alternative, data={\"athlete\": torch.tensor(1.), \"paying\": torch.tensor(0.), \"latent_athlete\": torch.tensor(100/400), \"latent_paying\": torch.tensor(300/400) })\n",
    "cond_model = pyro.condition(model, data={\"latent_athlete\": torch.tensor(100/400), \"latent_paying\": torch.tensor(300/400)})\n",
    "\n",
    "cond_model(athlete=1., paying=0.), cond_model_alternative()"
   ],
   "metadata": {
    "collapsed": false,
    "pycharm": {
     "name": "#%%\n"
    }
   }
  },
  {
   "cell_type": "code",
   "execution_count": 46,
   "outputs": [
    {
     "data": {
      "text/plain": "(tensor(-2.7726), tensor(-2.7726))"
     },
     "execution_count": 46,
     "metadata": {},
     "output_type": "execute_result"
    }
   ],
   "source": [
    "trace1 = pyro.poutine.trace(cond_model).get_trace(athlete=1., paying=0.)\n",
    "trace2 = pyro.poutine.trace(cond_model_alternative).get_trace()\n",
    "\n",
    "trace1.log_prob_sum(), trace2.log_prob_sum()"
   ],
   "metadata": {
    "collapsed": false,
    "pycharm": {
     "name": "#%%\n"
    }
   }
  },
  {
   "cell_type": "code",
   "execution_count": null,
   "outputs": [],
   "source": [],
   "metadata": {
    "collapsed": false,
    "pycharm": {
     "name": "#%%\n"
    }
   }
  }
 ],
 "metadata": {
  "kernelspec": {
   "display_name": "Python 3",
   "language": "python",
   "name": "python3"
  },
  "language_info": {
   "codemirror_mode": {
    "name": "ipython",
    "version": 2
   },
   "file_extension": ".py",
   "mimetype": "text/x-python",
   "name": "python",
   "nbconvert_exporter": "python",
   "pygments_lexer": "ipython2",
   "version": "2.7.6"
  }
 },
 "nbformat": 4,
 "nbformat_minor": 0
}