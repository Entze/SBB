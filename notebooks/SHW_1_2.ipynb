{
 "cells": [
  {
   "cell_type": "code",
   "execution_count": 104,
   "metadata": {
    "collapsed": true
   },
   "outputs": [],
   "source": [
    "import operator\n",
    "import string\n",
    "from functools import reduce\n",
    "from typing import Union\n",
    "\n",
    "import funsor\n",
    "import torch\n",
    "from pyro import set_rng_seed as pyro_set_rng_seed\n",
    "from pyro.infer import config_enumerate, TraceEnum_ELBO\n",
    "from torch import Tensor\n",
    "\n",
    "from sbb.counting import enumerate_sequences, count_elems, count_sequences\n",
    "\n",
    "funsor.set_backend(\"torch\")\n",
    "torch.set_default_dtype(torch.float32)\n",
    "pyro_set_rng_seed(0)\n",
    "\n",
    "from pyroapi import pyro\n",
    "import pyro.distributions as dist\n",
    "\n",
    "pyro.clear_param_store()"
   ]
  },
  {
   "cell_type": "code",
   "execution_count": 105,
   "outputs": [],
   "source": [
    "haydn_symphonies = torch.arange(30)\n",
    "modern_works = torch.arange(15)\n",
    "beethoven_symphonies = torch.arange(9)"
   ],
   "metadata": {
    "collapsed": false,
    "pycharm": {
     "name": "#%%\n"
    }
   }
  },
  {
   "cell_type": "code",
   "execution_count": 106,
   "outputs": [
    {
     "name": "stdout",
     "output_type": "stream",
     "text": [
      "CPU times: user 628 µs, sys: 0 ns, total: 628 µs\n",
      "Wall time: 589 µs\n"
     ]
    },
    {
     "data": {
      "text/plain": "4050"
     },
     "execution_count": 106,
     "metadata": {},
     "output_type": "execute_result"
    }
   ],
   "source": [
    "%%time\n",
    "p = enumerate_sequences(haydn_symphonies, modern_works, beethoven_symphonies)\n",
    "count_elems(p)"
   ],
   "metadata": {
    "collapsed": false,
    "pycharm": {
     "name": "#%%\n"
    }
   }
  },
  {
   "cell_type": "code",
   "execution_count": 107,
   "outputs": [
    {
     "name": "stdout",
     "output_type": "stream",
     "text": [
      "CPU times: user 19 µs, sys: 3 µs, total: 22 µs\n",
      "Wall time: 25.7 µs\n"
     ]
    },
    {
     "data": {
      "text/plain": "4050"
     },
     "execution_count": 107,
     "metadata": {},
     "output_type": "execute_result"
    }
   ],
   "source": [
    "%%time\n",
    "count_sequences(haydn_symphonies, modern_works, beethoven_symphonies)"
   ],
   "metadata": {
    "collapsed": false,
    "pycharm": {
     "name": "#%%\n"
    }
   }
  },
  {
   "cell_type": "code",
   "execution_count": 108,
   "outputs": [],
   "source": [
    "@config_enumerate(default='sequential')\n",
    "def model():\n",
    "    with pyro.plate(\"program_haydn\"):\n",
    "        haydn = pyro.sample(\"haydn\", dist.Categorical(logits=torch.zeros(30)), infer={'enumerate': \"parallel\"})\n",
    "\n",
    "    with pyro.plate(\"program_modern\"):\n",
    "        modern = pyro.sample(\"modern\", dist.Categorical(logits=torch.zeros(15)), infer={'enumerate': \"parallel\"})\n",
    "\n",
    "    with pyro.plate(\"program_beethoven\"):\n",
    "        beethoven = pyro.sample(\"beethoven\", dist.Categorical(logits=torch.zeros(9)), infer={'enumerate': \"parallel\"})\n",
    "\n",
    "    pieces = [0, 1, 2]\n",
    "    with pyro.plate(\"program_order\"):\n",
    "        first = pyro.sample(\"first\", dist.Categorical(logits=torch.zeros(len(pieces))))\n",
    "        piece1 = pieces[first]\n",
    "        del pieces[first]\n",
    "        second = pyro.sample(\"second\", dist.Categorical(logits=torch.zeros(len(pieces))))\n",
    "        piece2 = pieces[second]\n",
    "        del pieces[second]\n",
    "        piece3 = pieces[0]\n",
    "\n",
    "    print(f\"  model haydn.shape {haydn.shape}\")\n",
    "    print(f\"  model modern.shape {modern.shape}\")\n",
    "    print(f\"  model beethoven.shape {beethoven.shape}\")\n",
    "    print(f\"  model first.shape {first.shape}\")\n",
    "    print(f\"  model second.shape {second.shape}\")\n",
    "    print(f\"  model haydn {haydn}\")\n",
    "    print(f\"  model modern {modern}\")\n",
    "    print(f\"  model beethoven {beethoven}\")\n",
    "    print(f\"  model first {first}\")\n",
    "    print(f\"  model second {second}\")\n",
    "\n",
    "    return piece1, piece2, piece3, haydn, modern, beethoven"
   ],
   "metadata": {
    "collapsed": false,
    "pycharm": {
     "name": "#%%\n"
    }
   }
  },
  {
   "cell_type": "code",
   "execution_count": 109,
   "outputs": [],
   "source": [
    "@config_enumerate(default=\"sequential\")\n",
    "def guide():\n",
    "    with pyro.plate(\"program_haydn\"):\n",
    "        haydn = pyro.sample(\"haydn\", dist.Categorical(logits=torch.zeros(30)), infer={\"enumerate\": \"parallel\"})\n",
    "\n",
    "    with pyro.plate(\"program_modern\"):\n",
    "        modern = pyro.sample(\"modern\", dist.Categorical(logits=torch.zeros(15)), infer={\"enumerate\": \"parallel\"})\n",
    "\n",
    "    with pyro.plate(\"program_beethoven\"):\n",
    "        beethoven = pyro.sample(\"beethoven\", dist.Categorical(logits=torch.zeros(9)), infer={\"enumerate\": \"parallel\"})\n",
    "\n",
    "    pieces = [0, 1, 2]\n",
    "    with pyro.plate(\"program_order\"):\n",
    "        first = pyro.sample(\"first\", dist.Categorical(logits=torch.zeros(len(pieces))))\n",
    "        piece1 = pieces[first]\n",
    "        del pieces[first]\n",
    "        second = pyro.sample(\"second\", dist.Categorical(logits=torch.zeros(len(pieces))))\n",
    "        piece2 = pieces[second]\n",
    "        del pieces[second]\n",
    "        piece3 = pieces[0]\n",
    "\n",
    "    print(f\"  guide haydn.shape {haydn.shape}\")\n",
    "    print(f\"  guide modern.shape {modern.shape}\")\n",
    "    print(f\"  guide beethoven.shape {beethoven.shape}\")\n",
    "    print(f\"  guide first.shape {first.shape}\")\n",
    "    print(f\"  guide second.shape {second.shape}\")\n",
    "    print(f\"  guide haydn {haydn}\")\n",
    "    print(f\"  guide modern {modern}\")\n",
    "    print(f\"  guide beethoven {beethoven}\")\n",
    "    print(f\"  guide first {first}\")\n",
    "    print(f\"  guide second {second}\")\n",
    "\n",
    "    return piece1, piece2, piece3, haydn, modern, beethoven"
   ],
   "metadata": {
    "collapsed": false,
    "pycharm": {
     "name": "#%%\n"
    }
   }
  },
  {
   "cell_type": "code",
   "execution_count": 110,
   "outputs": [
    {
     "name": "stdout",
     "output_type": "stream",
     "text": [
      "Model:\n",
      "  model haydn.shape torch.Size([])\n",
      "  model modern.shape torch.Size([])\n",
      "  model beethoven.shape torch.Size([])\n",
      "  model first.shape torch.Size([])\n",
      "  model second.shape torch.Size([])\n",
      "  model haydn 29\n",
      "  model modern 10\n",
      "  model beethoven 4\n",
      "  model first 2\n",
      "  model second 1\n"
     ]
    },
    {
     "data": {
      "text/plain": "(2, 1, 0, tensor(29), tensor(10), tensor(4))"
     },
     "execution_count": 110,
     "metadata": {},
     "output_type": "execute_result"
    }
   ],
   "source": [
    "print(\"Model:\")\n",
    "model()"
   ],
   "metadata": {
    "collapsed": false,
    "pycharm": {
     "name": "#%%\n"
    }
   }
  },
  {
   "cell_type": "code",
   "execution_count": null,
   "outputs": [],
   "source": [
    "elbo = TraceEnum_ELBO(max_plate_nesting=1)\n",
    "elbo.loss(model, guide)"
   ],
   "metadata": {
    "collapsed": false,
    "pycharm": {
     "name": "#%%\n"
    }
   }
  },
  {
   "cell_type": "code",
   "execution_count": 115,
   "outputs": [],
   "source": [
    "def model():\n",
    "    pieces = list(range(30 + 15 + 9))\n",
    "\n",
    "    piece1_index = pyro.sample(\"piece1\", dist.Categorical(logits=torch.zeros(len(pieces))))\n",
    "    piece1 = pieces[piece1_index]\n",
    "\n",
    "    del pieces[piece1_index]\n",
    "\n",
    "    piece2_index = pyro.sample(\"piece2\", dist.Categorical(logits=torch.zeros(len(pieces))))\n",
    "    piece2 = pieces[piece2_index]\n",
    "\n",
    "    del pieces[piece2_index]\n",
    "\n",
    "    piece3_index = pyro.sample(\"piece3\", dist.Categorical(logits=torch.zeros(len(pieces))))\n",
    "    piece3 = pieces[piece3_index]\n",
    "\n",
    "    del pieces[piece3_index]\n",
    "\n",
    "    return piece1, piece2, piece3"
   ],
   "metadata": {
    "collapsed": false,
    "pycharm": {
     "name": "#%%\n"
    }
   }
  },
  {
   "cell_type": "code",
   "execution_count": 118,
   "outputs": [
    {
     "data": {
      "text/plain": "(33, 25, 22)"
     },
     "execution_count": 118,
     "metadata": {},
     "output_type": "execute_result"
    }
   ],
   "source": [
    "model()"
   ],
   "metadata": {
    "collapsed": false,
    "pycharm": {
     "name": "#%%\n"
    }
   }
  },
  {
   "cell_type": "code",
   "execution_count": null,
   "outputs": [],
   "source": [],
   "metadata": {
    "collapsed": false,
    "pycharm": {
     "name": "#%%\n"
    }
   }
  }
 ],
 "metadata": {
  "kernelspec": {
   "display_name": "Python 3",
   "language": "python",
   "name": "python3"
  },
  "language_info": {
   "codemirror_mode": {
    "name": "ipython",
    "version": 2
   },
   "file_extension": ".py",
   "mimetype": "text/x-python",
   "name": "python",
   "nbconvert_exporter": "python",
   "pygments_lexer": "ipython2",
   "version": "2.7.6"
  }
 },
 "nbformat": 4,
 "nbformat_minor": 0
}